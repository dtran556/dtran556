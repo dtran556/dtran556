{
  "nbformat": 4,
  "nbformat_minor": 0,
  "metadata": {
    "colab": {
      "provenance": [],
      "gpuType": "L4",
      "include_colab_link": true
    },
    "kernelspec": {
      "name": "python3",
      "display_name": "Python 3"
    },
    "language_info": {
      "name": "python"
    },
    "accelerator": "GPU"
  },
  "cells": [
    {
      "cell_type": "markdown",
      "metadata": {
        "id": "view-in-github",
        "colab_type": "text"
      },
      "source": [
        "<a href=\"https://colab.research.google.com/github/dtran556/dtran556/blob/main/artGenerator(real).ipynb\" target=\"_parent\"><img src=\"https://colab.research.google.com/assets/colab-badge.svg\" alt=\"Open In Colab\"/></a>"
      ]
    },
    {
      "cell_type": "markdown",
      "source": [
        "Foward Diffusion\n",
        "Grab an image and then iteratively add more noise to the image until the image is fully noisy.\n",
        "\n",
        "Backwards Diffusion\n",
        "Grab an image and then iteratively reduce noise until the noisy image is pure."
      ],
      "metadata": {
        "id": "qxOEezWw1TjD"
      }
    },
    {
      "cell_type": "markdown",
      "source": [
        "Proof of concept using a DDPM Diffuser:\n",
        "Cannot do backwards diffusion until the model is fully trained"
      ],
      "metadata": {
        "id": "7dHAVjdI1jQv"
      }
    },
    {
      "cell_type": "code",
      "source": [
        "import torch\n",
        "import numpy as np\n",
        "import matplotlib.pyplot as plt\n",
        "from diffusers import DDPMScheduler\n",
        "from PIL import Image\n",
        "import torchvision.transforms as transforms\n",
        "from datasets import load_dataset\n",
        "from torch.utils.data import DataLoader\n",
        "maxSteps = 1000\n",
        "noiseScheduler = DDPMScheduler(num_train_timesteps=maxSteps,\n",
        "                               beta_start=0.001,\n",
        "                               beta_end=0.02)\n",
        "\n",
        "def load_img():\n",
        "    image_path = \"/content/Sloth-RF.jpg\"\n",
        "    image = Image.open(image_path).convert('RGB')\n",
        "\n",
        "    transform = transforms.Compose([\n",
        "        transforms.Resize((64, 64)),\n",
        "        transforms.ToTensor()\n",
        "    ])\n",
        "\n",
        "    return transform(image).numpy()\n",
        "\n",
        "def plot_images(timesteps, images, title=\"Images\"):\n",
        "    fig, axes = plt.subplots(1, len(timesteps), figsize=(15, 3))\n",
        "    for i, (t, img) in enumerate(zip(timesteps, images)):\n",
        "        img_display = np.transpose(img, (1, 2, 0))\n",
        "        img_display = np.clip(img_display, 0, 1)\n",
        "        axes[i].imshow(img_display)\n",
        "        axes[i].set_title(f\"t={t}\")\n",
        "        axes[i].axis('off')\n",
        "    plt.suptitle(title)\n",
        "    plt.tight_layout()\n",
        "    plt.show()\n",
        "\n",
        "image = torch.tensor(load_img())\n",
        "forward_timesteps = torch.arange(0, maxSteps, maxSteps // 10)\n",
        "print(f\"Forward timesteps: {forward_timesteps}\")\n",
        "\n",
        "noise = torch.randn(image.shape)\n",
        "noisyImage = noiseScheduler.add_noise(\n",
        "    image.unsqueeze(0),\n",
        "    noise.unsqueeze(0),\n",
        "    forward_timesteps.unsqueeze(0)\n",
        ").squeeze(0).numpy()\n",
        "\n",
        "plot_images(forward_timesteps, noisyImage, \"Forward Diffusion\")"
      ],
      "metadata": {
        "colab": {
          "base_uri": "https://localhost:8080/",
          "height": 350
        },
        "id": "tOuUg_jj1n9u",
        "outputId": "666598a5-87fb-4fb2-b1e2-707033106a6f"
      },
      "execution_count": null,
      "outputs": [
        {
          "output_type": "error",
          "ename": "FileNotFoundError",
          "evalue": "[Errno 2] No such file or directory: '/content/Sloth-RF.jpg'",
          "traceback": [
            "\u001b[0;31m---------------------------------------------------------------------------\u001b[0m",
            "\u001b[0;31mFileNotFoundError\u001b[0m                         Traceback (most recent call last)",
            "\u001b[0;32m/tmp/ipython-input-4290598771.py\u001b[0m in \u001b[0;36m<cell line: 0>\u001b[0;34m()\u001b[0m\n\u001b[1;32m     35\u001b[0m     \u001b[0mplt\u001b[0m\u001b[0;34m.\u001b[0m\u001b[0mshow\u001b[0m\u001b[0;34m(\u001b[0m\u001b[0;34m)\u001b[0m\u001b[0;34m\u001b[0m\u001b[0;34m\u001b[0m\u001b[0m\n\u001b[1;32m     36\u001b[0m \u001b[0;34m\u001b[0m\u001b[0m\n\u001b[0;32m---> 37\u001b[0;31m \u001b[0mimage\u001b[0m \u001b[0;34m=\u001b[0m \u001b[0mtorch\u001b[0m\u001b[0;34m.\u001b[0m\u001b[0mtensor\u001b[0m\u001b[0;34m(\u001b[0m\u001b[0mload_img\u001b[0m\u001b[0;34m(\u001b[0m\u001b[0;34m)\u001b[0m\u001b[0;34m)\u001b[0m\u001b[0;34m\u001b[0m\u001b[0;34m\u001b[0m\u001b[0m\n\u001b[0m\u001b[1;32m     38\u001b[0m \u001b[0mforward_timesteps\u001b[0m \u001b[0;34m=\u001b[0m \u001b[0mtorch\u001b[0m\u001b[0;34m.\u001b[0m\u001b[0marange\u001b[0m\u001b[0;34m(\u001b[0m\u001b[0;36m0\u001b[0m\u001b[0;34m,\u001b[0m \u001b[0mmaxSteps\u001b[0m\u001b[0;34m,\u001b[0m \u001b[0mmaxSteps\u001b[0m \u001b[0;34m//\u001b[0m \u001b[0;36m10\u001b[0m\u001b[0;34m)\u001b[0m\u001b[0;34m\u001b[0m\u001b[0;34m\u001b[0m\u001b[0m\n\u001b[1;32m     39\u001b[0m \u001b[0mprint\u001b[0m\u001b[0;34m(\u001b[0m\u001b[0;34mf\"Forward timesteps: {forward_timesteps}\"\u001b[0m\u001b[0;34m)\u001b[0m\u001b[0;34m\u001b[0m\u001b[0;34m\u001b[0m\u001b[0m\n",
            "\u001b[0;32m/tmp/ipython-input-4290598771.py\u001b[0m in \u001b[0;36mload_img\u001b[0;34m()\u001b[0m\n\u001b[1;32m     14\u001b[0m \u001b[0;32mdef\u001b[0m \u001b[0mload_img\u001b[0m\u001b[0;34m(\u001b[0m\u001b[0;34m)\u001b[0m\u001b[0;34m:\u001b[0m\u001b[0;34m\u001b[0m\u001b[0;34m\u001b[0m\u001b[0m\n\u001b[1;32m     15\u001b[0m     \u001b[0mimage_path\u001b[0m \u001b[0;34m=\u001b[0m \u001b[0;34m\"/content/Sloth-RF.jpg\"\u001b[0m\u001b[0;34m\u001b[0m\u001b[0;34m\u001b[0m\u001b[0m\n\u001b[0;32m---> 16\u001b[0;31m     \u001b[0mimage\u001b[0m \u001b[0;34m=\u001b[0m \u001b[0mImage\u001b[0m\u001b[0;34m.\u001b[0m\u001b[0mopen\u001b[0m\u001b[0;34m(\u001b[0m\u001b[0mimage_path\u001b[0m\u001b[0;34m)\u001b[0m\u001b[0;34m.\u001b[0m\u001b[0mconvert\u001b[0m\u001b[0;34m(\u001b[0m\u001b[0;34m'RGB'\u001b[0m\u001b[0;34m)\u001b[0m\u001b[0;34m\u001b[0m\u001b[0;34m\u001b[0m\u001b[0m\n\u001b[0m\u001b[1;32m     17\u001b[0m \u001b[0;34m\u001b[0m\u001b[0m\n\u001b[1;32m     18\u001b[0m     transform = transforms.Compose([\n",
            "\u001b[0;32m/usr/local/lib/python3.12/dist-packages/PIL/Image.py\u001b[0m in \u001b[0;36mopen\u001b[0;34m(fp, mode, formats)\u001b[0m\n\u001b[1;32m   3511\u001b[0m     \u001b[0;32mif\u001b[0m \u001b[0mis_path\u001b[0m\u001b[0;34m(\u001b[0m\u001b[0mfp\u001b[0m\u001b[0;34m)\u001b[0m\u001b[0;34m:\u001b[0m\u001b[0;34m\u001b[0m\u001b[0;34m\u001b[0m\u001b[0m\n\u001b[1;32m   3512\u001b[0m         \u001b[0mfilename\u001b[0m \u001b[0;34m=\u001b[0m \u001b[0mos\u001b[0m\u001b[0;34m.\u001b[0m\u001b[0mfspath\u001b[0m\u001b[0;34m(\u001b[0m\u001b[0mfp\u001b[0m\u001b[0;34m)\u001b[0m\u001b[0;34m\u001b[0m\u001b[0;34m\u001b[0m\u001b[0m\n\u001b[0;32m-> 3513\u001b[0;31m         \u001b[0mfp\u001b[0m \u001b[0;34m=\u001b[0m \u001b[0mbuiltins\u001b[0m\u001b[0;34m.\u001b[0m\u001b[0mopen\u001b[0m\u001b[0;34m(\u001b[0m\u001b[0mfilename\u001b[0m\u001b[0;34m,\u001b[0m \u001b[0;34m\"rb\"\u001b[0m\u001b[0;34m)\u001b[0m\u001b[0;34m\u001b[0m\u001b[0;34m\u001b[0m\u001b[0m\n\u001b[0m\u001b[1;32m   3514\u001b[0m         \u001b[0mexclusive_fp\u001b[0m \u001b[0;34m=\u001b[0m \u001b[0;32mTrue\u001b[0m\u001b[0;34m\u001b[0m\u001b[0;34m\u001b[0m\u001b[0m\n\u001b[1;32m   3515\u001b[0m     \u001b[0;32melse\u001b[0m\u001b[0;34m:\u001b[0m\u001b[0;34m\u001b[0m\u001b[0;34m\u001b[0m\u001b[0m\n",
            "\u001b[0;31mFileNotFoundError\u001b[0m: [Errno 2] No such file or directory: '/content/Sloth-RF.jpg'"
          ]
        }
      ]
    },
    {
      "cell_type": "markdown",
      "source": [
        "Import statements for the actual model:"
      ],
      "metadata": {
        "id": "HsFmVnEsDC7j"
      }
    },
    {
      "cell_type": "code",
      "source": [
        "import torch\n",
        "import numpy as np\n",
        "import matplotlib.pyplot as plt\n",
        "from diffusers import DDPMScheduler\n",
        "from PIL import Image\n",
        "import torchvision.transforms as transforms\n",
        "from datasets import load_dataset\n",
        "from torch.utils.data import DataLoader\n",
        "import torch.nn as nn\n",
        "import torch.nn.functional as F\n",
        "from torch.optim import Adam\n"
      ],
      "metadata": {
        "id": "0rG4JXg1DCIx"
      },
      "execution_count": null,
      "outputs": []
    },
    {
      "cell_type": "markdown",
      "source": [
        "Training the model based off of this data set of 130k random images\n",
        "https://huggingface.co/datasets/opendiffusionai/pexels-photos-janpf"
      ],
      "metadata": {
        "id": "7ffwJnDLBoU0"
      }
    },
    {
      "cell_type": "code",
      "source": [
        "print(\"Loading combined dataset (CelebA + Food-101 + Flowers-102)...\")\n",
        "\n",
        "# Load individual datasets\n",
        "celeb_dataset = load_dataset(\"huggingface/celeb_a\", split=\"train[:10000]\")  # 10k faces\n",
        "food_dataset = load_dataset(\"food101\", split=\"train[:10000]\")  # 10k food images\n",
        "flowers_dataset = load_dataset(\"oxford_flowers102\", split=\"train\")  # All flowers (~8k)\n",
        "\n",
        "print(f\"CelebA: {len(celeb_dataset)} images\")\n",
        "print(f\"Food-101: {len(food_dataset)} images\")\n",
        "print(f\"Flowers-102: {len(flowers_dataset)} images\")\n",
        "\n",
        "# Image preprocessing\n",
        "transform = transforms.Compose([\n",
        "    transforms.Resize((64, 64)),\n",
        "    transforms.ToTensor()\n",
        "])\n",
        "\n",
        "class CombinedDataset(torch.utils.data.Dataset):\n",
        "    def __init__(self, celeb_data, food_data, flowers_data, transform=None):\n",
        "        self.celeb_data = celeb_data\n",
        "        self.food_data = food_data\n",
        "        self.flowers_data = flowers_data\n",
        "        self.transform = transform\n",
        "\n",
        "        # Calculate total length\n",
        "        self.celeb_len = len(celeb_data)\n",
        "        self.food_len = len(food_data)\n",
        "        self.flowers_len = len(flowers_data)\n",
        "        self.total_len = self.celeb_len + self.food_len + self.flowers_len\n",
        "\n",
        "    def __len__(self):\n",
        "        return self.total_len\n",
        "\n",
        "    def __getitem__(self, idx):\n",
        "        if idx < self.celeb_len:\n",
        "            # CelebA images\n",
        "            item = self.celeb_data[idx]\n",
        "            image = item['image']\n",
        "        elif idx < self.celeb_len + self.food_len:\n",
        "            # Food-101 images\n",
        "            item = self.food_data[idx - self.celeb_len]\n",
        "            image = item['image']\n",
        "        else:\n",
        "            # Flowers-102 images\n",
        "            item = self.flowers_data[idx - self.celeb_len - self.food_len]\n",
        "            image = item['image']\n",
        "\n",
        "        if self.transform:\n",
        "            image = self.transform(image)\n",
        "\n",
        "        return image\n",
        "\n",
        "# Create combined dataset\n",
        "combined_dataset = CombinedDataset(celeb_dataset, food_dataset, flowers_dataset, transform=transform)\n",
        "dataloader = DataLoader(combined_dataset, batch_size=1, shuffle=True)\n",
        "\n",
        "print(f\"Combined dataset: {len(combined_dataset)} total images\")\n",
        "\n",
        "# Display sample images\n",
        "print(\"Sample images from combined dataset:\")\n",
        "fig, axes = plt.subplots(1, 5, figsize=(15, 3))\n",
        "for i, image in enumerate(dataloader):\n",
        "    if i >= 5:\n",
        "        break\n",
        "\n",
        "    img_display = image.squeeze(0).numpy()\n",
        "    img_display = np.transpose(img_display, (1, 2, 0))\n",
        "    img_display = np.clip(img_display, 0, 1)\n",
        "\n",
        "    axes[i].imshow(img_display)\n",
        "    axes[i].set_title(f\"Image {i+1}\")\n",
        "    axes[i].axis('off')\n",
        "\n",
        "plt.tight_layout()\n",
        "plt.show()\n",
        "print(\"Combined dataset ready for training!\")"
      ],
      "metadata": {
        "colab": {
          "base_uri": "https://localhost:8080/",
          "height": 282
        },
        "id": "m2UAJX7dGMh_",
        "outputId": "f90112c7-1515-4b2f-8ad6-d9c276342b4e"
      },
      "execution_count": null,
      "outputs": [
        {
          "output_type": "display_data",
          "data": {
            "text/plain": [
              "<Figure size 1500x300 with 5 Axes>"
            ],
            "image/png": "[encoded data removed]"
          },
          "metadata": {}
        }
      ]
    },
    {
      "cell_type": "markdown",
      "source": [
        "Training loop:\n"
      ],
      "metadata": {
        "id": "c2ziF3rS6nm_"
      }
    },
    {
      "cell_type": "code",
      "source": [
        "class SimpleUNet(nn.Module):\n",
        "    def __init__(self):\n",
        "        super().__init__()\n",
        "        self.conv1 = nn.Conv2d(3, 64, 3, padding=1)\n",
        "        self.conv2 = nn.Conv2d(64, 128, 3, padding=1)\n",
        "        self.conv3 = nn.Conv2d(128, 256, 3, padding=1)\n",
        "\n",
        "        self.time_embed = nn.Linear(1, 256)\n",
        "\n",
        "        self.upconv1 = nn.Conv2d(256, 128, 3, padding=1)\n",
        "\n",
        "        self.upconv2 = nn.Conv2d(128, 64, 3, padding=1)\n",
        "        self.out = nn.Conv2d(64, 3, 3, padding=1)\n",
        "\n",
        "    def forward(self, x, timestep):\n",
        "        # Downsampling\n",
        "        x = torch.relu(self.conv1(x))\n",
        "        x = torch.relu(self.conv2(x))\n",
        "        x = torch.relu(self.conv3(x))\n",
        "\n",
        "        # Time embedding\n",
        "        t_emb = self.time_embed(timestep.float().unsqueeze(-1))\n",
        "        t_emb = t_emb.view(-1, 256, 1, 1)\n",
        "        x = x + t_emb\n",
        "\n",
        "        # Upsampling\n",
        "        x = torch.relu(self.upconv1(x))\n",
        "        x = torch.relu(self.upconv2(x))\n",
        "        x = self.out(x)\n",
        "\n",
        "        return x"
      ],
      "metadata": {
        "id": "LKZQ9CAA0Hqt"
      },
      "execution_count": null,
      "outputs": []
    },
    {
      "cell_type": "code",
      "source": [
        "maxSteps = 1000\n",
        "noiseScheduler = DDPMScheduler(num_train_timesteps=maxSteps,\n",
        "                               beta_start=0.001,\n",
        "                               beta_end=0.02)\n",
        "\n",
        "device = torch.device(\"cuda\" if torch.cuda.is_available() else \"cpu\")\n",
        "print(f\"Using device: {device}\")\n",
        "\n",
        "\n",
        "if torch.cuda.is_available():\n",
        "    print(f\"GPU: {torch.cuda.get_device_name(0)}\")\n",
        "    print(f\"GPU Memory: {torch.cuda.get_device_properties(0).total_memory / 1e9:.1f} GB\")\n",
        "\n",
        "\n",
        "\n",
        "unet_model = SimpleUNet().to(device)\n",
        "optimizer = Adam(unet_model.parameters(), lr=1e-4)\n",
        "\n",
        "\n",
        "max_timesteps = 1000\n",
        "num_epochs = 25\n",
        "batch_size = 128\n",
        "\n",
        "print(\"Starting training...\")\n",
        "print(f\"Model parameters: {sum(p.numel() for p in unet_model.parameters()):,}\")\n",
        "\n",
        "for epoch in range(num_epochs):\n",
        "    epoch_loss = 0\n",
        "    num_batches = 0\n",
        "\n",
        "    for batch_idx, images in enumerate(dataloader):\n",
        "        # Load Data\n",
        "        images = images.to(device)\n",
        "        img_shape = images.shape  # [Batch Size, Num Channels, W, H]\n",
        "\n",
        "        # Run augmentations (simple random horizontal flip)\n",
        "        if torch.rand(1) > 0.5:\n",
        "            images = torch.flip(images, dims=[3])\n",
        "\n",
        "        # Forward Diffusion\n",
        "        # Generate Random Noise for Random timesteps\n",
        "        timesteps = torch.randint(0, max_timesteps, (len(images),)).to(device)\n",
        "        noise = torch.randn(img_shape).to(device)\n",
        "\n",
        "        # Add noise to images\n",
        "        noisy_images = noiseScheduler.add_noise(images, noise, timesteps)\n",
        "\n",
        "        # UNet Forward Pass\n",
        "        prediction = unet_model(noisy_images, timesteps)\n",
        "\n",
        "        # Calculate Loss\n",
        "        loss = F.mse_loss(prediction, noise)\n",
        "\n",
        "        # Update Weights\n",
        "        optimizer.zero_grad()\n",
        "        loss.backward()\n",
        "        optimizer.step()\n",
        "\n",
        "        epoch_loss += loss.item()\n",
        "        num_batches += 1\n",
        "\n",
        "    avg_loss = epoch_loss / num_batches\n",
        "    print(f\"Epoch {epoch+1} completed. Average Loss: {avg_loss:.4f}\")\n",
        "\n",
        "print(\"Training completed!\")\n",
        "torch.save(unet_model.state_dict(), 'genImage25epoch.pth')\n",
        "torch.save({\n",
        "    'model_state_dict': unet_model.state_dict(),\n",
        "    'optimizer_state_dict': optimizer.state_dict(),\n",
        "    'epoch': num_epochs,\n",
        "    'loss': avg_loss\n",
        "},'trained_unet_path.pth')\n",
        "\n",
        "print(\"Model Saved\")"
      ],
      "metadata": {
        "id": "reeTovsI17LN",
        "colab": {
          "base_uri": "https://localhost:8080/"
        },
        "outputId": "cc4b0164-5a20-4150-a63c-185b7eeca9a2"
      },
      "execution_count": null,
      "outputs": [
        {
          "output_type": "stream",
          "name": "stdout",
          "text": [
            "Using device: cuda\n",
            "GPU: NVIDIA L4\n",
            "GPU Memory: 23.8 GB\n",
            "Starting training...\n",
            "Model parameters: 741,891\n",
            "Epoch 1 completed. Average Loss: 0.1260\n",
            "Epoch 2 completed. Average Loss: 0.0181\n",
            "Epoch 3 completed. Average Loss: 0.0150\n",
            "Epoch 4 completed. Average Loss: 0.0132\n",
            "Epoch 5 completed. Average Loss: 0.0122\n",
            "Epoch 6 completed. Average Loss: 0.0115\n",
            "Epoch 7 completed. Average Loss: 0.0108\n",
            "Epoch 8 completed. Average Loss: 0.0103\n",
            "Epoch 9 completed. Average Loss: 0.0099\n",
            "Epoch 10 completed. Average Loss: 0.0097\n",
            "Epoch 11 completed. Average Loss: 0.0094\n",
            "Epoch 12 completed. Average Loss: 0.0093\n",
            "Epoch 13 completed. Average Loss: 0.0088\n",
            "Epoch 14 completed. Average Loss: 0.0087\n",
            "Epoch 15 completed. Average Loss: 0.0086\n",
            "Epoch 16 completed. Average Loss: 0.0085\n",
            "Epoch 17 completed. Average Loss: 0.0084\n",
            "Epoch 18 completed. Average Loss: 0.0082\n",
            "Epoch 19 completed. Average Loss: 0.0081\n",
            "Epoch 20 completed. Average Loss: 0.0080\n",
            "Epoch 21 completed. Average Loss: 0.0080\n",
            "Epoch 22 completed. Average Loss: 0.0079\n",
            "Epoch 23 completed. Average Loss: 0.0080\n",
            "Epoch 24 completed. Average Loss: 0.0076\n",
            "Epoch 25 completed. Average Loss: 0.0078\n",
            "Training completed!\n",
            "Model Saved\n"
          ]
        }
      ]
    },
    {
      "cell_type": "markdown",
      "source": [
        "Testing models ability to generate images of decent quality"
      ],
      "metadata": {
        "id": "E8x7BF2Exl1G"
      }
    },
    {
      "cell_type": "markdown",
      "source": [
        "LOADING MODEL"
      ],
      "metadata": {
        "id": "rn5jlAU0zPgD"
      }
    },
    {
      "cell_type": "code",
      "source": [
        "unet_model = SimpleUNet().to(device)\n",
        "unet_model.load_state_dict(torch.load('genImage25epoch.pth'))\n",
        "unet_model.eval()"
      ],
      "metadata": {
        "id": "flvbSSWgzPDq",
        "outputId": "6a1563a5-ed51-4dca-c5de-c07c31bcf31c",
        "colab": {
          "base_uri": "https://localhost:8080/"
        }
      },
      "execution_count": null,
      "outputs": [
        {
          "output_type": "execute_result",
          "data": {
            "text/plain": [
              "SimpleUNet(\n",
              "  (conv1): Conv2d(3, 64, kernel_size=(3, 3), stride=(1, 1), padding=(1, 1))\n",
              "  (conv2): Conv2d(64, 128, kernel_size=(3, 3), stride=(1, 1), padding=(1, 1))\n",
              "  (conv3): Conv2d(128, 256, kernel_size=(3, 3), stride=(1, 1), padding=(1, 1))\n",
              "  (time_embed): Linear(in_features=1, out_features=256, bias=True)\n",
              "  (upconv1): Conv2d(256, 128, kernel_size=(3, 3), stride=(1, 1), padding=(1, 1))\n",
              "  (upconv2): Conv2d(128, 64, kernel_size=(3, 3), stride=(1, 1), padding=(1, 1))\n",
              "  (out): Conv2d(64, 3, kernel_size=(3, 3), stride=(1, 1), padding=(1, 1))\n",
              ")"
            ]
          },
          "metadata": {},
          "execution_count": 23
        }
      ]
    },
    {
      "cell_type": "code",
      "source": [
        "maxSteps = 1000\n",
        "noiseScheduler = DDPMScheduler(num_train_timesteps=maxSteps,\n",
        "                               beta_start=0.001,\n",
        "                               beta_end=0.02)\n",
        "def genImage(model,num_images = 5):\n",
        "  model.eval()\n",
        "  with torch.no_grad():\n",
        "    noise = torch.rand(num_images, 3, 64, 64).to(device)\n",
        "    for i in reversed(range(max_timesteps)):\n",
        "      timestep = torch.full((num_images,), i, device = device)\n",
        "      predicted_noise = model(noise, timestep)\n",
        "      noise = noiseScheduler.step(predicted_noise, i, noise).prev_sample\n",
        "    return noise.cpu().numpy()\n",
        "def plot_images(timesteps, images, title=\"Images\"):\n",
        "    fig, axes = plt.subplots(1, len(timesteps), figsize=(15, 3))\n",
        "    for i, (t, img) in enumerate(zip(timesteps, images)):\n",
        "        img_display = np.transpose(img, (1, 2, 0))\n",
        "        img_display = np.clip(img_display, 0, 1)\n",
        "        axes[i].imshow(img_display)\n",
        "        axes[i].set_title(f\"t={t}\")\n",
        "        axes[i].axis('off')\n",
        "    plt.suptitle(title)\n",
        "    plt.tight_layout()\n",
        "    plt.show()\n",
        "generated = genImage(unet_model, 5)\n",
        "print(generated.shape)\n",
        "plot_images = (range(5), generated, \"Generated Images\")"
      ],
      "metadata": {
        "id": "IC5Jj1gTA2_e",
        "outputId": "90b543a1-0612-4895-fdf3-f40b74a56d84",
        "colab": {
          "base_uri": "https://localhost:8080/"
        }
      },
      "execution_count": null,
      "outputs": [
        {
          "output_type": "stream",
          "name": "stdout",
          "text": [
            "(5, 3, 64, 64)\n"
          ]
        }
      ]
    },
    {
      "cell_type": "code",
      "source": [],
      "metadata": {
        "id": "6hiR37PHxzHA"
      },
      "execution_count": null,
      "outputs": []
    }
  ]
}